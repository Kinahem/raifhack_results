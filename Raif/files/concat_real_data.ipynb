{
 "cells": [
  {
   "cell_type": "code",
   "execution_count": 1,
   "metadata": {
    "ExecuteTime": {
     "end_time": "2021-09-25T13:52:15.079605Z",
     "start_time": "2021-09-25T13:52:14.714167Z"
    }
   },
   "outputs": [],
   "source": [
    "import pandas as pd\n",
    "import osmread\n",
    "from tqdm import tqdm\n",
    "import pickle"
   ]
  },
  {
   "cell_type": "code",
   "execution_count": 2,
   "metadata": {
    "ExecuteTime": {
     "end_time": "2021-09-25T13:52:37.355849Z",
     "start_time": "2021-09-25T13:52:15.081574Z"
    }
   },
   "outputs": [],
   "source": [
    "with open('data/central-fed-district-latest.pickle', 'rb') as fin:\n",
    "    tagged_nodes1 = pickle.load(fin)\n",
    "with open('data/far-eastern-fed-district-latest.pickle', 'rb') as fin:\n",
    "    tagged_nodes2 = pickle.load(fin)\n",
    "with open('data/north-caucasus-fed-district-latest.pickle', 'rb') as fin:\n",
    "    tagged_nodes3 = pickle.load(fin)\n",
    "with open('data/northwestern-fed-district-latest.pickle', 'rb') as fin:\n",
    "    tagged_nodes4 = pickle.load(fin)\n",
    "with open('data/siberian-fed-district-latest.pickle', 'rb') as fin:\n",
    "    tagged_nodes5 = pickle.load(fin)\n",
    "with open('data/south-fed-district-latest.pickle', 'rb') as fin:\n",
    "    tagged_nodes6 = pickle.load(fin)\n",
    "with open('data/ural-fed-district-latest.pickle', 'rb') as fin:\n",
    "    tagged_nodes7 = pickle.load(fin)\n",
    "with open('data/volga-fed-district-latest.pickle', 'rb') as fin:\n",
    "    tagged_nodes8 = pickle.load(fin)"
   ]
  },
  {
   "cell_type": "code",
   "execution_count": 3,
   "metadata": {
    "ExecuteTime": {
     "end_time": "2021-09-25T13:53:29.884711Z",
     "start_time": "2021-09-25T13:53:29.874564Z"
    }
   },
   "outputs": [
    {
     "data": {
      "text/plain": [
       "(1699322, 308755, 163835, 812716)"
      ]
     },
     "execution_count": 3,
     "metadata": {},
     "output_type": "execute_result"
    }
   ],
   "source": [
    "len(tagged_nodes1),len(tagged_nodes2),len(tagged_nodes3),len(tagged_nodes4)"
   ]
  },
  {
   "cell_type": "code",
   "execution_count": 4,
   "metadata": {
    "ExecuteTime": {
     "end_time": "2021-09-25T13:54:02.974722Z",
     "start_time": "2021-09-25T13:54:02.347591Z"
    }
   },
   "outputs": [],
   "source": [
    "concat_nodes = tagged_nodes1+tagged_nodes2+tagged_nodes3+tagged_nodes4+tagged_nodes5+tagged_nodes6+tagged_nodes7+tagged_nodes8"
   ]
  },
  {
   "cell_type": "code",
   "execution_count": 5,
   "metadata": {
    "ExecuteTime": {
     "end_time": "2021-09-25T13:54:09.699816Z",
     "start_time": "2021-09-25T13:54:09.695975Z"
    }
   },
   "outputs": [
    {
     "data": {
      "text/plain": [
       "5888152"
      ]
     },
     "execution_count": 5,
     "metadata": {},
     "output_type": "execute_result"
    }
   ],
   "source": [
    "len(concat_nodes)"
   ]
  },
  {
   "cell_type": "code",
   "execution_count": 6,
   "metadata": {
    "ExecuteTime": {
     "end_time": "2021-09-25T13:55:20.188339Z",
     "start_time": "2021-09-25T13:54:45.071650Z"
    }
   },
   "outputs": [],
   "source": [
    "with open(f'data/concat_nodes.pickle', 'wb') as fout:\n",
    "    pickle.dump(concat_nodes, fout, protocol=pickle.HIGHEST_PROTOCOL)"
   ]
  }
 ],
 "metadata": {
  "kernelspec": {
   "display_name": "Python [conda env:stellargraph]",
   "language": "python",
   "name": "conda-env-stellargraph-py"
  },
  "language_info": {
   "codemirror_mode": {
    "name": "ipython",
    "version": 3
   },
   "file_extension": ".py",
   "mimetype": "text/x-python",
   "name": "python",
   "nbconvert_exporter": "python",
   "pygments_lexer": "ipython3",
   "version": "3.6.8"
  },
  "toc": {
   "base_numbering": 1,
   "nav_menu": {},
   "number_sections": true,
   "sideBar": true,
   "skip_h1_title": false,
   "title_cell": "Table of Contents",
   "title_sidebar": "Contents",
   "toc_cell": false,
   "toc_position": {},
   "toc_section_display": true,
   "toc_window_display": false
  }
 },
 "nbformat": 4,
 "nbformat_minor": 2
}
