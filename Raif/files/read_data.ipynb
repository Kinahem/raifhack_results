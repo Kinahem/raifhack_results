{
 "cells": [
  {
   "cell_type": "code",
   "execution_count": 1,
   "metadata": {
    "ExecuteTime": {
     "end_time": "2021-09-25T13:21:56.342973Z",
     "start_time": "2021-09-25T13:21:55.966317Z"
    }
   },
   "outputs": [],
   "source": [
    "import pandas as pd\n",
    "import osmread\n",
    "from tqdm import tqdm"
   ]
  },
  {
   "cell_type": "code",
   "execution_count": 2,
   "metadata": {
    "ExecuteTime": {
     "end_time": "2021-09-25T13:21:56.355444Z",
     "start_time": "2021-09-25T13:21:56.344671Z"
    }
   },
   "outputs": [
    {
     "data": {
      "text/plain": [
       "['northwestern-fed-district-latest',\n",
       " 'south-fed-district-latest',\n",
       " 'central-fed-district-latest',\n",
       " 'north-caucasus-fed-district-latest',\n",
       " 'volga-fed-district-latest',\n",
       " 'ural-fed-district-latest',\n",
       " 'siberian-fed-district-latest',\n",
       " 'far-eastern-fed-district-latest']"
      ]
     },
     "execution_count": 2,
     "metadata": {},
     "output_type": "execute_result"
    }
   ],
   "source": [
    "import os\n",
    "arrs=[]\n",
    "for dirname, _, filenames in os.walk('data'):\n",
    "    for filename in filenames:\n",
    "        arrs.append(filename.split('.')[0])\n",
    "arrs"
   ]
  },
  {
   "cell_type": "code",
   "execution_count": 3,
   "metadata": {
    "ExecuteTime": {
     "end_time": "2021-09-25T13:21:56.360305Z",
     "start_time": "2021-09-25T13:21:56.357057Z"
    }
   },
   "outputs": [],
   "source": [
    "name_file = 'far-eastern-fed-district-latest'\n",
    "# 'siberian-fed-district-latest'\n",
    "# 'ural-fed-district-latest'\n",
    "# 'volga-fed-district-latest'\n",
    "# 'central-fed-district-latest'\n",
    "# 'south-fed-district-latest'\n",
    "# 'northwestern-fed-district-latest'\n",
    "# 'north-caucasus-fed-district-latest'\n",
    "\n",
    "osm_file = osmread.parse_file(f'data/{name_file}.osm.pbf')"
   ]
  },
  {
   "cell_type": "code",
   "execution_count": 4,
   "metadata": {
    "ExecuteTime": {
     "end_time": "2021-09-25T13:44:09.487842Z",
     "start_time": "2021-09-25T13:21:56.361976Z"
    }
   },
   "outputs": [
    {
     "name": "stderr",
     "output_type": "stream",
     "text": [
      "47676388it [22:13, 35763.05it/s]\n"
     ]
    }
   ],
   "source": [
    "tagged_nodes = [\n",
    "    entry\n",
    "    for entry in tqdm(osm_file)\n",
    "    if isinstance(entry, osmread.Node) and len(entry.tags)>0\n",
    "]"
   ]
  },
  {
   "cell_type": "code",
   "execution_count": 5,
   "metadata": {
    "ExecuteTime": {
     "end_time": "2021-09-25T13:44:09.493228Z",
     "start_time": "2021-09-25T13:44:09.489530Z"
    }
   },
   "outputs": [
    {
     "data": {
      "text/plain": [
       "(308755, 'far-eastern-fed-district-latest')"
      ]
     },
     "execution_count": 5,
     "metadata": {},
     "output_type": "execute_result"
    }
   ],
   "source": [
    "len(tagged_nodes), name_file"
   ]
  },
  {
   "cell_type": "code",
   "execution_count": 6,
   "metadata": {
    "ExecuteTime": {
     "end_time": "2021-09-25T13:44:11.183628Z",
     "start_time": "2021-09-25T13:44:09.495401Z"
    }
   },
   "outputs": [],
   "source": [
    "import pickle\n",
    "with open(f'data/{name_file}.pickle', 'wb') as fout:\n",
    "    pickle.dump(tagged_nodes, fout, protocol=pickle.HIGHEST_PROTOCOL)"
   ]
  }
 ],
 "metadata": {
  "kernelspec": {
   "display_name": "Python [conda env:stellargraph]",
   "language": "python",
   "name": "conda-env-stellargraph-py"
  },
  "language_info": {
   "codemirror_mode": {
    "name": "ipython",
    "version": 3
   },
   "file_extension": ".py",
   "mimetype": "text/x-python",
   "name": "python",
   "nbconvert_exporter": "python",
   "pygments_lexer": "ipython3",
   "version": "3.6.8"
  },
  "toc": {
   "base_numbering": 1,
   "nav_menu": {},
   "number_sections": true,
   "sideBar": true,
   "skip_h1_title": false,
   "title_cell": "Table of Contents",
   "title_sidebar": "Contents",
   "toc_cell": false,
   "toc_position": {},
   "toc_section_display": true,
   "toc_window_display": false
  }
 },
 "nbformat": 4,
 "nbformat_minor": 2
}
